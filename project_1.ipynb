{
 "cells": [
  {
   "cell_type": "code",
   "execution_count": 38,
   "metadata": {},
   "outputs": [],
   "source": [
    "from statsmodels.regression.rolling import RollingOLS\n",
    "#import pandas_datareader.data as web\n",
    "import matplotlib.pyplot as plt\n",
    "import statsmodels.api as sm\n",
    "import pandas as pd\n",
    "import numpy as np\n",
    "import datetime as dt\n",
    "import yfinance as yf\n",
    "import pandas_ta\n",
    "import warnings\n",
    "from datetime import datetime, date\n",
    "warnings.filterwarnings('ignore')"
   ]
  },
  {
   "cell_type": "markdown",
   "metadata": {},
   "source": [
    "# Get SPY Data"
   ]
  },
  {
   "cell_type": "code",
   "execution_count": 23,
   "metadata": {},
   "outputs": [],
   "source": [
    "import requests\n",
    "\n",
    "url = 'https://en.wikipedia.org/wiki/List_of_S%26P_500_companies'\n",
    "headers = {\n",
    "    \"User-Agent\": \"Chrome/117.0.0.0 Safari/537.36\"\n",
    "}\n",
    "response = requests.get(url, headers=headers)"
   ]
  },
  {
   "cell_type": "code",
   "execution_count": 26,
   "metadata": {},
   "outputs": [],
   "source": [
    "df_list = pd.read_html(response.text)\n",
    "sp500 = df_list[0]"
   ]
  },
  {
   "cell_type": "code",
   "execution_count": 29,
   "metadata": {},
   "outputs": [],
   "source": [
    "sp500['Symbol'] = sp500['Symbol'].str.replace('.', '-')\n",
    "symbols_list = sp500['Symbol'].unique().tolist()"
   ]
  },
  {
   "cell_type": "code",
   "execution_count": 45,
   "metadata": {},
   "outputs": [],
   "source": [
    "end_date = datetime.now().strftime('%Y-%m-%d')\n",
    "end_date = pd.to_datetime(end_date)\n",
    "\n",
    "start_date = end_date - pd.DateOffset(365*8)"
   ]
  },
  {
   "cell_type": "code",
   "execution_count": 48,
   "metadata": {},
   "outputs": [
    {
     "name": "stderr",
     "output_type": "stream",
     "text": [
      "[*********************100%***********************]  503 of 503 completed\n"
     ]
    }
   ],
   "source": [
    "df = yf.download(tickers=symbols_list)"
   ]
  },
  {
   "cell_type": "code",
   "execution_count": 51,
   "metadata": {},
   "outputs": [],
   "source": [
    "df = df.stack()\n",
    "df.index.names = ['date', 'ticker']\n",
    "\n",
    "df.columns = df.columns.str.lower()"
   ]
  },
  {
   "cell_type": "code",
   "execution_count": 54,
   "metadata": {},
   "outputs": [
    {
     "data": {
      "text/html": [
       "<div>\n",
       "<style scoped>\n",
       "    .dataframe tbody tr th:only-of-type {\n",
       "        vertical-align: middle;\n",
       "    }\n",
       "\n",
       "    .dataframe tbody tr th {\n",
       "        vertical-align: top;\n",
       "    }\n",
       "\n",
       "    .dataframe thead th {\n",
       "        text-align: right;\n",
       "    }\n",
       "</style>\n",
       "<table border=\"1\" class=\"dataframe\">\n",
       "  <thead>\n",
       "    <tr style=\"text-align: right;\">\n",
       "      <th></th>\n",
       "      <th>Price</th>\n",
       "      <th>close</th>\n",
       "      <th>high</th>\n",
       "      <th>low</th>\n",
       "      <th>open</th>\n",
       "      <th>volume</th>\n",
       "    </tr>\n",
       "    <tr>\n",
       "      <th>date</th>\n",
       "      <th>ticker</th>\n",
       "      <th></th>\n",
       "      <th></th>\n",
       "      <th></th>\n",
       "      <th></th>\n",
       "      <th></th>\n",
       "    </tr>\n",
       "  </thead>\n",
       "  <tbody>\n",
       "    <tr>\n",
       "      <th rowspan=\"5\" valign=\"top\">2025-09-18</th>\n",
       "      <th>A</th>\n",
       "      <td>127.364250</td>\n",
       "      <td>128.282397</td>\n",
       "      <td>126.505973</td>\n",
       "      <td>127.503969</td>\n",
       "      <td>1513200</td>\n",
       "    </tr>\n",
       "    <tr>\n",
       "      <th>AAPL</th>\n",
       "      <td>237.880005</td>\n",
       "      <td>241.199997</td>\n",
       "      <td>236.649994</td>\n",
       "      <td>239.970001</td>\n",
       "      <td>44249600</td>\n",
       "    </tr>\n",
       "    <tr>\n",
       "      <th>ABBV</th>\n",
       "      <td>220.401108</td>\n",
       "      <td>220.480537</td>\n",
       "      <td>218.345917</td>\n",
       "      <td>219.487695</td>\n",
       "      <td>4445600</td>\n",
       "    </tr>\n",
       "    <tr>\n",
       "      <th>ABNB</th>\n",
       "      <td>125.470001</td>\n",
       "      <td>125.720001</td>\n",
       "      <td>123.599998</td>\n",
       "      <td>123.739998</td>\n",
       "      <td>4235700</td>\n",
       "    </tr>\n",
       "    <tr>\n",
       "      <th>ABT</th>\n",
       "      <td>133.974258</td>\n",
       "      <td>134.183320</td>\n",
       "      <td>131.515192</td>\n",
       "      <td>133.496372</td>\n",
       "      <td>5891700</td>\n",
       "    </tr>\n",
       "    <tr>\n",
       "      <th>...</th>\n",
       "      <th>...</th>\n",
       "      <td>...</td>\n",
       "      <td>...</td>\n",
       "      <td>...</td>\n",
       "      <td>...</td>\n",
       "      <td>...</td>\n",
       "    </tr>\n",
       "    <tr>\n",
       "      <th rowspan=\"5\" valign=\"top\">2025-10-17</th>\n",
       "      <th>XYZ</th>\n",
       "      <td>75.199997</td>\n",
       "      <td>75.709999</td>\n",
       "      <td>73.379997</td>\n",
       "      <td>73.779999</td>\n",
       "      <td>4411700</td>\n",
       "    </tr>\n",
       "    <tr>\n",
       "      <th>YUM</th>\n",
       "      <td>145.250000</td>\n",
       "      <td>146.240005</td>\n",
       "      <td>143.220001</td>\n",
       "      <td>143.770004</td>\n",
       "      <td>1503100</td>\n",
       "    </tr>\n",
       "    <tr>\n",
       "      <th>ZBH</th>\n",
       "      <td>101.919998</td>\n",
       "      <td>102.099998</td>\n",
       "      <td>99.059998</td>\n",
       "      <td>99.820000</td>\n",
       "      <td>1158700</td>\n",
       "    </tr>\n",
       "    <tr>\n",
       "      <th>ZBRA</th>\n",
       "      <td>293.309998</td>\n",
       "      <td>295.420013</td>\n",
       "      <td>290.690002</td>\n",
       "      <td>292.920013</td>\n",
       "      <td>413000</td>\n",
       "    </tr>\n",
       "    <tr>\n",
       "      <th>ZTS</th>\n",
       "      <td>144.059998</td>\n",
       "      <td>144.570007</td>\n",
       "      <td>142.550003</td>\n",
       "      <td>143.130005</td>\n",
       "      <td>3748900</td>\n",
       "    </tr>\n",
       "  </tbody>\n",
       "</table>\n",
       "<p>11066 rows × 5 columns</p>\n",
       "</div>"
      ],
      "text/plain": [
       "Price                   close        high         low        open    volume\n",
       "date       ticker                                                          \n",
       "2025-09-18 A       127.364250  128.282397  126.505973  127.503969   1513200\n",
       "           AAPL    237.880005  241.199997  236.649994  239.970001  44249600\n",
       "           ABBV    220.401108  220.480537  218.345917  219.487695   4445600\n",
       "           ABNB    125.470001  125.720001  123.599998  123.739998   4235700\n",
       "           ABT     133.974258  134.183320  131.515192  133.496372   5891700\n",
       "...                       ...         ...         ...         ...       ...\n",
       "2025-10-17 XYZ      75.199997   75.709999   73.379997   73.779999   4411700\n",
       "           YUM     145.250000  146.240005  143.220001  143.770004   1503100\n",
       "           ZBH     101.919998  102.099998   99.059998   99.820000   1158700\n",
       "           ZBRA    293.309998  295.420013  290.690002  292.920013    413000\n",
       "           ZTS     144.059998  144.570007  142.550003  143.130005   3748900\n",
       "\n",
       "[11066 rows x 5 columns]"
      ]
     },
     "execution_count": 54,
     "metadata": {},
     "output_type": "execute_result"
    }
   ],
   "source": [
    "df"
   ]
  },
  {
   "cell_type": "markdown",
   "metadata": {},
   "source": [
    "# Calculate features and technical indicators for each stock"
   ]
  },
  {
   "cell_type": "markdown",
   "metadata": {},
   "source": []
  }
 ],
 "metadata": {
  "kernelspec": {
   "display_name": ".env",
   "language": "python",
   "name": "python3"
  },
  "language_info": {
   "codemirror_mode": {
    "name": "ipython",
    "version": 3
   },
   "file_extension": ".py",
   "mimetype": "text/x-python",
   "name": "python",
   "nbconvert_exporter": "python",
   "pygments_lexer": "ipython3",
   "version": "3.12.7"
  },
  "orig_nbformat": 4
 },
 "nbformat": 4,
 "nbformat_minor": 2
}
